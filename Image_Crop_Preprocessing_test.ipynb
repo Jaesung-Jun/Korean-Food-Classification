{
 "cells": [
  {
   "cell_type": "markdown",
   "id": "66731384",
   "metadata": {},
   "source": [
    "### 이 파일에서는 각 Class별로 crop_area.properties 파일에 있는 객체의 좌표를 참조하여 각 이미지들을 객체에 맞게 자릅니다."
   ]
  },
  {
   "cell_type": "markdown",
   "id": "0d0e20ea",
   "metadata": {},
   "source": [
    "# 1. Package Import"
   ]
  },
  {
   "cell_type": "code",
   "execution_count": null,
   "id": "880b7ba1",
   "metadata": {},
   "outputs": [],
   "source": [
    "from PIL import Image\n",
    "import numpy\n",
    "from osAdvanced import File_Control\n",
    "import numpy as np\n",
    "import os"
   ]
  },
  {
   "cell_type": "markdown",
   "id": "3608e8a1",
   "metadata": {},
   "source": [
    "# 2.  jpg 이외의 확장자들을 jpg로 변환시켜주기."
   ]
  },
  {
   "cell_type": "code",
   "execution_count": null,
   "id": "30dea14a",
   "metadata": {},
   "outputs": [],
   "source": [
    "# bmp gif GIF jpeg JPEG jpg JPG png PNG\n",
    "extension_list = ['bmp', 'gif', 'GIF', 'jpeg', 'JPEG', 'JPG', 'png', 'PNG']\n",
    "converted_data = 0\n",
    "for ext in extension_list:\n",
    "    data = File_Control.searchAllFilesInDirectory(\"/raid/korean_food_cropped\", ext)\n",
    "    for d in data:\n",
    "        im = Image.open(d)\n",
    "        rgb_im = im.convert('RGB')\n",
    "        rgb_im.save(os.path.splitext(d)[0] + '.jpg')\n",
    "        converted_data = converted_data + 1\n",
    "print(\"Converted : \", converted_data)"
   ]
  },
  {
   "cell_type": "markdown",
   "id": "02dd3d73",
   "metadata": {},
   "source": [
    "# 3. 각 파일들의 Crop 좌표를 Dictionary 형태로 저장.\n",
    "파일들을 불러온 뒤, 클래스별로 crop_area_properties에 있는 정보를 불러와서 해당 클래스에 속해있는 파일들의 Crop Coordinate 정보들을 Dictionary (파일이름을 Key, Crop Coordinate 정보를 value) 로 저장"
   ]
  },
  {
   "cell_type": "code",
   "execution_count": null,
   "id": "bfdeb373",
   "metadata": {},
   "outputs": [],
   "source": [
    "dataset = File_Control.searchAllFilesInDirectoryByDir(\"/raid/korean_food_cropped/\", \"jpg\")\n",
    "crop_area_dict = {}\n",
    "\n",
    "for datas in dataset:\n",
    "    crop_properties = datas[0].replace(os.path.basename(datas[0]), \"crop_area.properties\")\n",
    "    base_path = datas[0].replace(os.path.basename(datas[0]), \"\")\n",
    "    \n",
    "    with open(crop_properties, 'rb') as f:\n",
    "        crop_properties_byte = f.read()\n",
    "    f.close()\n",
    "    \n",
    "    crop_area_list = crop_properties_byte.decode().split('\\n')\n",
    "    crop_area_list = crop_area_list[:len(crop_area_list)-1] #맨 마지막 줄은 항상 공백이므로 제거\n",
    "    for crop_area in crop_area_list:\n",
    "        t = crop_area.split('=')\n",
    "        crop_area_dict[f\"{base_path}{t[0]}.jpg\"] = tuple([t for t in t[1].split(',')])"
   ]
  },
  {
   "cell_type": "markdown",
   "id": "50dc68d0",
   "metadata": {},
   "source": [
    "# 4. 결측치 제거\n",
    "좌표가 제대로 적혀있지 않은 경우도 있었음. <br>\n",
    "좌표가 제대로 적혀있지 않은 경우에는 Dictionary에서 제외시켜서 Crop대상이 아니도록 함."
   ]
  },
  {
   "cell_type": "code",
   "execution_count": null,
   "id": "da7349d9",
   "metadata": {},
   "outputs": [],
   "source": [
    "for key in list(crop_area_dict.keys()):\n",
    "    if len(crop_area_dict[key]) != 4:\n",
    "        crop_area_dict.pop(key)"
   ]
  },
  {
   "cell_type": "markdown",
   "id": "4943d54c",
   "metadata": {},
   "source": [
    "# 5. Image Crop\n",
    "위 코드에서 Dictionary 형태로 저장한 Crop Coordinate 정보를 불러와서 실제로 이미지를 Crop 함."
   ]
  },
  {
   "cell_type": "code",
   "execution_count": null,
   "id": "c5a12aef",
   "metadata": {},
   "outputs": [],
   "source": [
    "cropped_imgs = {}\n",
    "for data in list(crop_area_dict.keys()):\n",
    "    im = Image.open(data)\n",
    "    x = int(crop_area_dict[data][0])\n",
    "    y = int(crop_area_dict[data][1])\n",
    "    w = int(crop_area_dict[data][2])\n",
    "    h = int(crop_area_dict[data][3])\n",
    "    cropped_imgs[data] = im.crop((x, y, x+w, y+h))\n",
    "    "
   ]
  },
  {
   "cell_type": "code",
   "execution_count": null,
   "id": "25087667",
   "metadata": {},
   "outputs": [],
   "source": [
    "cropped_imgs"
   ]
  },
  {
   "cell_type": "markdown",
   "id": "4705e82c",
   "metadata": {},
   "source": [
    "# 6. 실제로 Crop이 제대로 잘 되었는지 확인함.\n",
    "Crop 된 이미지를 랜덤으로 불러와서 확인."
   ]
  },
  {
   "cell_type": "code",
   "execution_count": null,
   "id": "92ce35e9",
   "metadata": {},
   "outputs": [],
   "source": [
    "import random \n",
    "import matplotlib.pyplot as plt\n",
    "import matplotlib.font_manager as fm\n",
    "\n",
    "path = '/usr/share/fonts/truetype/nanum/NanumGothic.ttf'\n",
    "prop = fm.FontProperties(fname=path, size=18)\n",
    "\n",
    "columns = 4\n",
    "rows = 2\n",
    "fig = plt.figure(figsize=(20, 10))\n",
    "ax = []\n",
    "for i in range(columns*rows):\n",
    "    img_index = random.randint(0, len(cropped_imgs))\n",
    "    cropped_img = np.array(list(cropped_imgs.values())[img_index])\n",
    "    ax.append(fig.add_subplot(rows, columns, i+1))\n",
    "    ax[-1].set_title(list(cropped_imgs.keys())[img_index], fontproperties=prop)\n",
    "    plt.imshow(cropped_img)\n",
    "plt.show()"
   ]
  },
  {
   "cell_type": "markdown",
   "id": "6ba54afe",
   "metadata": {},
   "source": [
    "# 7. Crop된 이미지를 저장함."
   ]
  },
  {
   "cell_type": "code",
   "execution_count": null,
   "id": "f0a13ca4",
   "metadata": {},
   "outputs": [],
   "source": [
    "for cropped_img in cropped_imgs:\n",
    "    cropped_imgs[cropped_img].convert(\"RGB\").save(cropped_img)\n",
    "    print(\"saved : \" + cropped_img)"
   ]
  }
 ],
 "metadata": {
  "kernelspec": {
   "display_name": "tf-2.7.0",
   "language": "python",
   "name": "tf-2.7.0"
  },
  "language_info": {
   "codemirror_mode": {
    "name": "ipython",
    "version": 3
   },
   "file_extension": ".py",
   "mimetype": "text/x-python",
   "name": "python",
   "nbconvert_exporter": "python",
   "pygments_lexer": "ipython3",
   "version": "3.8.13"
  }
 },
 "nbformat": 4,
 "nbformat_minor": 5
}
