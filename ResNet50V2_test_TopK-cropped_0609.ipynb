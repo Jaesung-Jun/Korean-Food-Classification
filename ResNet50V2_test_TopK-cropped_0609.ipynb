{
 "cells": [
  {
   "cell_type": "markdown",
   "id": "845b22f8",
   "metadata": {},
   "source": [
    "# 1. Import Packages"
   ]
  },
  {
   "cell_type": "code",
   "execution_count": null,
   "id": "a3f08151",
   "metadata": {},
   "outputs": [],
   "source": [
    "import tensorflow as tf \n",
    "from tensorflow.keras.applications.resnet_v2 import ResNet50V2\n",
    "from sklearn.model_selection import train_test_split\n",
    "\n",
    "import pickle\n",
    "import numpy as np\n",
    "import re\n",
    "import os\n",
    "\n",
    "from osAdvanced import File_Control\n",
    "from ProgressBar import Progress_Bar\n",
    "\n",
    "import matplotlib.pyplot as plt\n",
    "import matplotlib.font_manager as fm"
   ]
  },
  {
   "cell_type": "markdown",
   "id": "b0d201ac",
   "metadata": {},
   "source": [
    "# 2. 테스트 데이터 로드"
   ]
  },
  {
   "cell_type": "markdown",
   "id": "e3c8df5e",
   "metadata": {},
   "source": [
    "## 2.1 테스트 데이터 로드\n",
    "train 데이터와 validation 데이터는 필요 없으므로 메모리에서 삭제."
   ]
  },
  {
   "cell_type": "code",
   "execution_count": null,
   "id": "f4561277",
   "metadata": {},
   "outputs": [],
   "source": [
    "with open('/raid/korean_food_pkl/preprocessed_data_0603_ResNet50V2_cropped.pkl', 'rb') as f:\n",
    "    data = pickle.load(f) # 단 한줄씩 읽어옴\n",
    "\n",
    "x = data[0]\n",
    "y = data[1]\n",
    "\n",
    "x_train, x_valtest, y_train, y_valtest = train_test_split(x, y, test_size = 0.3, random_state=1)\n",
    "x_val, x_test, y_val, y_test = train_test_split(x_valtest, y_valtest, test_size = 0.5, random_state=1)\n",
    "\n",
    "print(\"train size : \", y_train.shape[0])\n",
    "print(\"test size : \", y_test.shape[0])\n",
    "print(\"validation size : \", y_val.shape[0])\n",
    "\n",
    "del x_train\n",
    "del y_train\n",
    "\n",
    "del x_val\n",
    "del y_val"
   ]
  },
  {
   "cell_type": "markdown",
   "id": "23abb8c1",
   "metadata": {},
   "source": [
    "## 2.2 라벨 정보 불러오기"
   ]
  },
  {
   "cell_type": "code",
   "execution_count": null,
   "id": "07c3cdd4",
   "metadata": {},
   "outputs": [],
   "source": [
    "dataset = File_Control.searchAllFilesInDirectoryByDir(\"/raid/korean_food_cropped/\", \"jpg\")\n",
    "label_dict = {}\n",
    "p = re.compile(\"\\/[가-힣]*\\/.*\\/\")\n",
    "for i in range(len(dataset)):\n",
    "    label = p.search(dataset[i][0]).group()\n",
    "    label = label.replace(\"/\", \"|\")\n",
    "    label_dict[str(i)] = label[1:len(label)-1] "
   ]
  },
  {
   "cell_type": "markdown",
   "id": "f95fa011",
   "metadata": {},
   "source": [
    "## 2.3 데이터 확인\n",
    "데이터를 제대로 불러왔는지 확인"
   ]
  },
  {
   "cell_type": "code",
   "execution_count": null,
   "id": "8cecd3f1",
   "metadata": {},
   "outputs": [],
   "source": [
    "import random \n",
    "\n",
    "\"\"\"\n",
    "plt.rcParams['axes.unicode_minus'] = False\n",
    "path = '/usr/share/fonts/truetype/nanum/NanumGothic.ttf'\n",
    "font_name = mpl.font_manager.FontProperties(fname=path).get_name()\n",
    "plt.rc('font', family=font_name)\n",
    "print([f.fname for f in matplotlib.font_manager.fontManager.ttflist])\n",
    "\"\"\"\n",
    "\n",
    "path = '/usr/share/fonts/truetype/nanum/NanumGothic.ttf'\n",
    "prop = fm.FontProperties(fname=path, size=18)\n",
    "\n",
    "w = 10\n",
    "h = 10\n",
    "columns = 4\n",
    "rows = 2\n",
    "fig = plt.figure(figsize=(20, 10))\n",
    "\n",
    "ax = []\n",
    "for i in range(columns*rows):\n",
    "    img_index = random.randint(0, len(y_test))\n",
    "    img = x_test[img_index]+100/255\n",
    "    #img = img[:,:,::-1]\n",
    "    ax.append(fig.add_subplot(rows, columns, i+1))\n",
    "    y_str = str(np.argmax(y_test[img_index]))\n",
    "    ax[-1].set_title(label_dict[y_str], fontproperties=prop)  # set title\n",
    "    plt.imshow(img)\n",
    "plt.show()\n"
   ]
  },
  {
   "cell_type": "markdown",
   "id": "bc4e0ea2",
   "metadata": {},
   "source": [
    "# 3. 모델 로드\n",
    "2번 GPU 사용."
   ]
  },
  {
   "cell_type": "code",
   "execution_count": null,
   "id": "bf972eb5",
   "metadata": {},
   "outputs": [],
   "source": [
    "os.environ[\"CUDA_VISIBLE_DEVICES\"] = \"2\"\n",
    "\n",
    "IMAGE_SHAPE = (224, 224, 3)\n",
    "\n",
    "model = ResNet50V2(\n",
    "    include_top=True,\n",
    "    input_shape=IMAGE_SHAPE,\n",
    "    weights=None,\n",
    "    classes=150,\n",
    ")\n",
    "\n",
    "model.trainable = False\n",
    "\n",
    "model.summary()"
   ]
  },
  {
   "cell_type": "markdown",
   "id": "f570b5fa",
   "metadata": {},
   "source": [
    "# 4. 모델 가중치 로드 및 컴파일"
   ]
  },
  {
   "cell_type": "code",
   "execution_count": null,
   "id": "d649226f",
   "metadata": {},
   "outputs": [],
   "source": [
    "WEIGHTS_PATH = \"./checkpoints_0609_ResNetV2_Original_cropped/ckpt\"\n",
    "\n",
    "model.load_weights(WEIGHTS_PATH)\n",
    "\n",
    "top_1_acc = tf.keras.metrics.TopKCategoricalAccuracy(k=1, name='top_1_acc')\n",
    "top_2_acc = tf.keras.metrics.TopKCategoricalAccuracy(k=2, name='top_2_acc')\n",
    "top_3_acc = tf.keras.metrics.TopKCategoricalAccuracy(k=3, name='top_3_acc')\n",
    "top_4_acc = tf.keras.metrics.TopKCategoricalAccuracy(k=4, name='top_4_acc')\n",
    "top_5_acc = tf.keras.metrics.TopKCategoricalAccuracy(k=5, name='top_5_acc')\n",
    "\n",
    "model.compile(optimizer='adam',\n",
    "              loss='categorical_crossentropy',\n",
    "              metrics=[\n",
    "                top_1_acc,\n",
    "                top_2_acc,\n",
    "                top_3_acc,\n",
    "                top_4_acc,\n",
    "                top_5_acc,\n",
    "              ])"
   ]
  },
  {
   "cell_type": "markdown",
   "id": "87c8d777",
   "metadata": {},
   "source": [
    "# 5. 모델  평가\n",
    "테스트 데이터셋으로 모델을 평가함."
   ]
  },
  {
   "cell_type": "code",
   "execution_count": null,
   "id": "7bc21d22",
   "metadata": {},
   "outputs": [],
   "source": [
    "eval = model.evaluate(x_test, y_test)\n",
    "print(\"test loss : \", eval[0])\n",
    "print(\"test top-1 accuracy : \", eval[1])\n",
    "print(\"test top-2 accuracy : \", eval[2])\n",
    "print(\"test top-3 accuracy : \", eval[3])\n",
    "print(\"test top-4 accuracy : \", eval[4])\n",
    "print(\"test top-5 accuracy : \", eval[5])"
   ]
  },
  {
   "cell_type": "markdown",
   "id": "e28dbd6f",
   "metadata": {},
   "source": [
    "# 6. 테스트 결과 확인"
   ]
  },
  {
   "cell_type": "markdown",
   "id": "ad0bb1e9",
   "metadata": {},
   "source": [
    "## 6.1 test 데이터셋을 predict 한 값을 변수에 저장"
   ]
  },
  {
   "cell_type": "code",
   "execution_count": null,
   "id": "c01e3f1d",
   "metadata": {},
   "outputs": [],
   "source": [
    "y_predicted = model.predict(x_test)"
   ]
  },
  {
   "cell_type": "markdown",
   "id": "48d5fdc0",
   "metadata": {},
   "source": [
    "## 6.2 Array내의 값중 가장 큰 값 n개를 추출하는 함수"
   ]
  },
  {
   "cell_type": "code",
   "execution_count": null,
   "id": "85bd7095",
   "metadata": {},
   "outputs": [],
   "source": [
    "def argmax_top_n(array, n):\n",
    "    argmax_n = []\n",
    "\n",
    "    ind = np.argpartition(array, abs(n)*(-1))[abs(n)*(-1):]\n",
    "    top4 = array[ind]\n",
    "    for i in range(n):\n",
    "        argmax_n.append(np.where(array == top4[i])[0][0])\n",
    "    return np.array(argmax_n)"
   ]
  },
  {
   "cell_type": "markdown",
   "id": "2844c450",
   "metadata": {},
   "source": [
    "## 6.3 테스트 결과 출력\n",
    "Predict된 값 중 가장 확률이 높은 값 k개만 출력."
   ]
  },
  {
   "cell_type": "code",
   "execution_count": null,
   "id": "48fa2192",
   "metadata": {},
   "outputs": [],
   "source": [
    "import random \n",
    "\n",
    "k = 3 # Top-K\n",
    "\n",
    "w = 10\n",
    "h = 13\n",
    "columns = 5\n",
    "rows = 2\n",
    "fig = plt.figure(figsize=(20, 10))\n",
    "\n",
    "ax = []\n",
    "plt.subplots_adjust(left=0.125, bottom=0.1, right=0.9, top=0.9, wspace=0.2, hspace=0.35)\n",
    "for i in range(columns*rows):\n",
    "    img_index = random.randint(0, len(x_test))\n",
    "    img = x_test[img_index]+100/255\n",
    "\n",
    "    ax.append(fig.add_subplot(rows, columns, i+1))\n",
    "    \n",
    "    result_topn = argmax_top_n(y_predicted[img_index], k)\n",
    "    \n",
    "    ground_truth = label_dict[str(np.argmax(y_test[img_index]))]\n",
    "    \n",
    "    result_str = \"정답 : \" + ground_truth\n",
    "    for i in range(k):\n",
    "        i_str = str(result_topn[i])\n",
    "        y_predicted_str = label_dict[i_str]\n",
    "        result_str = result_str + \"\\n\" + str(i+1) + \" : \" + y_predicted_str\n",
    "\n",
    "        if len(result_str.split(ground_truth)) > 2:\n",
    "            c = 'g' # 정답이 포함되어 있으면 Green\n",
    "        else:\n",
    "            c = 'r' # 정답이 포함되어 있지 않으면 Red\n",
    "    ax[-1].set_title(result_str, fontproperties=prop, color=c)  # set title\n",
    "    plt.imshow(img)\n",
    "plt.show()"
   ]
  }
 ],
 "metadata": {
  "kernelspec": {
   "display_name": "tf-2.7.0",
   "language": "python",
   "name": "tf-2.7.0"
  },
  "language_info": {
   "codemirror_mode": {
    "name": "ipython",
    "version": 3
   },
   "file_extension": ".py",
   "mimetype": "text/x-python",
   "name": "python",
   "nbconvert_exporter": "python",
   "pygments_lexer": "ipython3",
   "version": "3.8.13"
  }
 },
 "nbformat": 4,
 "nbformat_minor": 5
}
